{
 "cells": [
  {
   "cell_type": "markdown",
   "metadata": {},
   "source": [
    "### **CreateCollectionRequest** "
   ]
  },
  {
   "cell_type": "markdown",
   "metadata": {},
   "source": [
    "Creat :"
   ]
  },
  {
   "cell_type": "code",
   "execution_count": null,
   "metadata": {
    "vscode": {
     "languageId": "plaintext"
    }
   },
   "outputs": [],
   "source": [
    "public static CreateCollectionRequest Create(string collectionName, int vectorSize, QdrantDistanceType distanceType)\n",
    "    {\n",
    "        return new CreateCollectionRequest(collectionName, vectorSize, distanceType);\n",
    "    }"
   ]
  },
  {
   "cell_type": "markdown",
   "metadata": {},
   "source": [
    "It enforces required parameters and hides the private constructor."
   ]
  },
  {
   "cell_type": "markdown",
   "metadata": {},
   "source": [
    "Nested Class: **VectorSettings**"
   ]
  },
  {
   "cell_type": "code",
   "execution_count": null,
   "metadata": {
    "vscode": {
     "languageId": "plaintext"
    }
   },
   "outputs": [],
   "source": [
    "internal sealed class VectorSettings(int vectorSize, QdrantDistanceType distanceType)\n",
    "    {\n",
    "        [JsonPropertyName(\"size\")]\n",
    "        public int? Size { get; set; } = vectorSize;\n",
    "\n",
    "        [JsonPropertyName(\"distance\")]\n",
    "        public string? DistanceAsString\n",
    "        {\n",
    "            get { return DistanceTypeToString(this.DistanceType); }\n",
    "        }\n",
    "\n",
    "        [JsonIgnore]\n",
    "        private QdrantDistanceType DistanceType { get; set; } = distanceType;\n",
    "\n",
    "        private static string DistanceTypeToString(QdrantDistanceType x)\n",
    "        {\n",
    "            return x switch\n",
    "            {\n",
    "                QdrantDistanceType.Cosine => \"Cosine\",\n",
    "                QdrantDistanceType.DotProduct => \"DotProduct\",\n",
    "                QdrantDistanceType.Euclidean => \"Euclidean\",\n",
    "                QdrantDistanceType.Manhattan => \"Manhattan\",\n",
    "                _ => throw new NotSupportedException($\"Distance type {x} not supported\")\n",
    "            };\n",
    "        }\n",
    "    }"
   ]
  }
 ],
 "metadata": {
  "language_info": {
   "name": "python"
  }
 },
 "nbformat": 4,
 "nbformat_minor": 2
}
